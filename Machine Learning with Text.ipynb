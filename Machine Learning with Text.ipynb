{
 "cells": [
  {
   "cell_type": "code",
   "execution_count": 19,
   "metadata": {},
   "outputs": [
    {
     "name": "stdout",
     "output_type": "stream",
     "text": [
      "['block', 'bye', 'gonna', 'hate', 'imm', 'kkkkk', 'lot', 'mmmmmm', 'you']\n"
     ]
    },
    {
     "data": {
      "text/html": [
       "<div>\n",
       "<style scoped>\n",
       "    .dataframe tbody tr th:only-of-type {\n",
       "        vertical-align: middle;\n",
       "    }\n",
       "\n",
       "    .dataframe tbody tr th {\n",
       "        vertical-align: top;\n",
       "    }\n",
       "\n",
       "    .dataframe thead th {\n",
       "        text-align: right;\n",
       "    }\n",
       "</style>\n",
       "<table border=\"1\" class=\"dataframe\">\n",
       "  <thead>\n",
       "    <tr style=\"text-align: right;\">\n",
       "      <th></th>\n",
       "      <th>block</th>\n",
       "      <th>bye</th>\n",
       "      <th>gonna</th>\n",
       "      <th>hate</th>\n",
       "      <th>imm</th>\n",
       "      <th>kkkkk</th>\n",
       "      <th>lot</th>\n",
       "      <th>mmmmmm</th>\n",
       "      <th>you</th>\n",
       "    </tr>\n",
       "  </thead>\n",
       "  <tbody>\n",
       "    <tr>\n",
       "      <th>0</th>\n",
       "      <td>0</td>\n",
       "      <td>0</td>\n",
       "      <td>0</td>\n",
       "      <td>1</td>\n",
       "      <td>0</td>\n",
       "      <td>0</td>\n",
       "      <td>1</td>\n",
       "      <td>1</td>\n",
       "      <td>0</td>\n",
       "    </tr>\n",
       "    <tr>\n",
       "      <th>1</th>\n",
       "      <td>0</td>\n",
       "      <td>0</td>\n",
       "      <td>0</td>\n",
       "      <td>2</td>\n",
       "      <td>0</td>\n",
       "      <td>1</td>\n",
       "      <td>0</td>\n",
       "      <td>0</td>\n",
       "      <td>0</td>\n",
       "    </tr>\n",
       "    <tr>\n",
       "      <th>2</th>\n",
       "      <td>1</td>\n",
       "      <td>1</td>\n",
       "      <td>1</td>\n",
       "      <td>0</td>\n",
       "      <td>1</td>\n",
       "      <td>0</td>\n",
       "      <td>0</td>\n",
       "      <td>0</td>\n",
       "      <td>1</td>\n",
       "    </tr>\n",
       "  </tbody>\n",
       "</table>\n",
       "</div>"
      ],
      "text/plain": [
       "   block  bye  gonna  hate  imm  kkkkk  lot  mmmmmm  you\n",
       "0      0    0      0     1    0      0    1       1    0\n",
       "1      0    0      0     2    0      1    0       0    0\n",
       "2      1    1      1     0    1      0    0       0    1"
      ]
     },
     "execution_count": 19,
     "metadata": {},
     "output_type": "execute_result"
    }
   ],
   "source": [
    "from sklearn.neighbors  import KNeighborsClassifier\n",
    "from sklearn.feature_extraction.text  import CountVectorizer\n",
    "import numpy as np\n",
    "import pandas as pd\n",
    "lang_of_girls=['mmmmmm i hate u a lot(:(:','kkkkk i hate hate u','bye imm gonna block you''']\n",
    "\n",
    "'''Learn the vocabulary of girls ,pretty hard though(:'''\n",
    "vector=CountVectorizer()\n",
    "vector.fit(lang_of_girls)\n",
    "\n",
    "document_mat=vector.transform(lang_of_girls)\n",
    "'''Transform the vector'''\n",
    "array=document_mat.toarray()\n",
    "print(vector.get_feature_names())\n",
    "file=pd.DataFrame(array,columns=vector.get_feature_names())\n",
    "file\n",
    "\n",
    "\n",
    "    "
   ]
  },
  {
   "cell_type": "code",
   "execution_count": null,
   "metadata": {},
   "outputs": [],
   "source": []
  },
  {
   "cell_type": "code",
   "execution_count": null,
   "metadata": {},
   "outputs": [],
   "source": []
  }
 ],
 "metadata": {
  "kernelspec": {
   "display_name": "Python 3",
   "language": "python",
   "name": "python3"
  }
 },
 "nbformat": 4,
 "nbformat_minor": 2
}
